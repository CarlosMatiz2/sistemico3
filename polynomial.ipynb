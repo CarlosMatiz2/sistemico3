{
 "cells": [
  {
   "cell_type": "markdown",
   "metadata": {},
   "source": [
    "The Python code for function $x**4 - 4x**2 +3x$looks like this:"
   ]
  },
  {
   "cell_type": "code",
   "execution_count": 2,
   "metadata": {},
   "outputs": [
    {
     "name": "stdout",
     "output_type": "stream",
     "text": [
      "-1 -6\n",
      "0 0\n",
      "2 6\n",
      "3.4 97.59359999999998\n"
     ]
    }
   ],
   "source": [
    "def p(x):\n",
    "    return x**4 - 4*x**2 + 3*x\n",
    "\n",
    "for x in [-1, 0, 2, 3.4]:\n",
    "    print(x, p(x))"
   ]
  },
  {
   "cell_type": "markdown",
   "metadata": {},
   "source": [
    "We can plot the function in a simple way with Matplotlib:"
   ]
  },
  {
   "cell_type": "code",
   "execution_count": 5,
   "metadata": {},
   "outputs": [
    {
     "name": "stdout",
     "output_type": "stream",
     "text": [
      "The values generated for the x-axis are the following:\n",
      "[-3.         -2.93939394 -2.87878788 -2.81818182 -2.75757576 -2.6969697\n",
      " -2.63636364 -2.57575758 -2.51515152 -2.45454545 -2.39393939 -2.33333333\n",
      " -2.27272727 -2.21212121 -2.15151515 -2.09090909 -2.03030303 -1.96969697\n",
      " -1.90909091 -1.84848485 -1.78787879 -1.72727273 -1.66666667 -1.60606061\n",
      " -1.54545455 -1.48484848 -1.42424242 -1.36363636 -1.3030303  -1.24242424\n",
      " -1.18181818 -1.12121212 -1.06060606 -1.         -0.93939394 -0.87878788\n",
      " -0.81818182 -0.75757576 -0.6969697  -0.63636364 -0.57575758 -0.51515152\n",
      " -0.45454545 -0.39393939 -0.33333333 -0.27272727 -0.21212121 -0.15151515\n",
      " -0.09090909 -0.03030303  0.03030303  0.09090909  0.15151515  0.21212121\n",
      "  0.27272727  0.33333333  0.39393939  0.45454545  0.51515152  0.57575758\n",
      "  0.63636364  0.6969697   0.75757576  0.81818182  0.87878788  0.93939394\n",
      "  1.          1.06060606  1.12121212  1.18181818  1.24242424  1.3030303\n",
      "  1.36363636  1.42424242  1.48484848  1.54545455  1.60606061  1.66666667\n",
      "  1.72727273  1.78787879  1.84848485  1.90909091  1.96969697  2.03030303\n",
      "  2.09090909  2.15151515  2.21212121  2.27272727  2.33333333  2.39393939\n",
      "  2.45454545  2.51515152  2.57575758  2.63636364  2.6969697   2.75757576\n",
      "  2.81818182  2.87878788  2.93939394  3.        ]\n"
     ]
    },
    {
     "data": {
      "image/png": "[encoded data removed]",
      "text/plain": [
       "<Figure size 640x480 with 1 Axes>"
      ]
     },
     "metadata": {},
     "output_type": "display_data"
    }
   ],
   "source": [
    "import numpy as np\n",
    "import matplotlib.pyplot as plt\n",
    "\n",
    "X = np.linspace(-3, 3, 100, endpoint=True)\n",
    "print(\"The values generated for the x-axis are the following:\")\n",
    "print(X)\n",
    "F = p(X)\n",
    "plt.plot(X,F)\n",
    "\n",
    "plt.show()"
   ]
  },
  {
   "cell_type": "markdown",
   "metadata": {},
   "source": [
    "A polynomial is uniquely determined by its coefficients. This means, an instance of our polynomial class needs a list or tuple to define the coefficients."
   ]
  },
  {
   "cell_type": "code",
   "execution_count": 29,
   "metadata": {},
   "outputs": [],
   "source": [
    "class Polynomial:\n",
    "    \n",
    "    \n",
    "    def __init__(self, *coefficients):\n",
    "        \"\"\" \n",
    "        input: coefficients are in the form a_n, ...a_1, a_0 \n",
    "        \"\"\"\n",
    "        self.coefficients = list(coefficients) # tuple is turned into a list\n",
    "     \n",
    "    def __call__(self, x): \n",
    "        \"\"\"\n",
    "        It makes possible to use an instance of this class as a function\n",
    "        that evaluates a polynomial\n",
    "        \"\"\"   \n",
    "        res = 0\n",
    "        for index, coeff in enumerate(self.coefficients[::-1]):\n",
    "            print(f\"index = {index}, coefficient = {coeff} \")\n",
    "            res += coeff * x** index\n",
    "        return res\n",
    "    \n",
    "    def __repr__(self):\n",
    "        \"\"\"\n",
    "        method to return the canonical string representation \n",
    "        of a polynomial.\n",
    "        \"\"\"\n",
    "        return \"Polynomial\" + str(tuple(self.coefficients))\n",
    "\n",
    "    \n",
    "    def __str__(self):\n",
    "        def x_expr(degree):\n",
    "            if degree == 0:\n",
    "                res = \"\"\n",
    "            elif degree == 1:\n",
    "                res = \"x\"\n",
    "            else:\n",
    "                res = \"x^\"+str(degree)\n",
    "            return res\n",
    "\n",
    "        degree = len(self.coefficients) - 1\n",
    "        res = \"\"\n",
    "\n",
    "        for i in range(0, degree+1):\n",
    "            coeff = self.coefficients[i]\n",
    "            # nothing has to be done if coeff is 0:\n",
    "            if abs(coeff) == 1 and i < degree:\n",
    "                # 1 in front of x shouldn't occur, e.g. x instead of 1x\n",
    "                # but we need the plus or minus sign:\n",
    "                res += f\"{'+' if coeff>0 else '-'}{x_expr(degree-i)}\"  \n",
    "            elif coeff != 0:\n",
    "                res += f\"{coeff:+g}{x_expr(degree-i)}\" \n",
    "\n",
    "        return res.lstrip('+')    # removing leading '+'"
   ]
  },
  {
   "cell_type": "code",
   "execution_count": 30,
   "metadata": {},
   "outputs": [
    {
     "name": "stdout",
     "output_type": "stream",
     "text": [
      "x^4-4x^2+3x\n",
      "index = 0, coefficient = 0 \n",
      "index = 1, coefficient = 3 \n",
      "index = 2, coefficient = -4 \n",
      "index = 3, coefficient = 0 \n",
      "index = 4, coefficient = 1 \n",
      "p(2) = 6\n"
     ]
    }
   ],
   "source": [
    "p = Polynomial(1, 0, -4, 3, 0)\n",
    "print(p)\n",
    "print(f\"p(2) = {p(2)}\")"
   ]
  },
  {
   "cell_type": "code",
   "execution_count": 31,
   "metadata": {},
   "outputs": [
    {
     "name": "stdout",
     "output_type": "stream",
     "text": [
      "string formed with magic method str x^4-4x^2+3x\n",
      "string formed with magic method repr Polynomial(1, 0, -4, 3, 0)\n"
     ]
    }
   ],
   "source": [
    "p2 = eval(repr(p))\n",
    "print(f\"string formed with magic method str {p}\")\n",
    "print(f\"string formed with magic method repr {repr(p)}\")"
   ]
  },
  {
   "cell_type": "code",
   "execution_count": 32,
   "metadata": {},
   "outputs": [
    {
     "data": {
      "text/plain": [
       "Polynomial(1, 0, -4, 3, 0)"
      ]
     },
     "execution_count": 32,
     "metadata": {},
     "output_type": "execute_result"
    }
   ],
   "source": [
    "eval(repr(p))"
   ]
  },
  {
   "cell_type": "code",
   "execution_count": 33,
   "metadata": {},
   "outputs": [
    {
     "data": {
      "text/plain": [
       "'Polynomial(1, 0, -4, 3, 0)'"
      ]
     },
     "execution_count": 33,
     "metadata": {},
     "output_type": "execute_result"
    }
   ],
   "source": [
    "repr(p)"
   ]
  },
  {
   "cell_type": "code",
   "execution_count": 34,
   "metadata": {},
   "outputs": [
    {
     "name": "stdout",
     "output_type": "stream",
     "text": [
      "$p_0 = x^4-4x^2+3x$\n",
      "$p_1 = 2x$\n",
      "$p_2 = 4x^2+x-1$\n",
      "$p_3 = 3x^4-5x^2+2x+7$\n",
      "$p_4 = -42$\n"
     ]
    }
   ],
   "source": [
    "polys = [Polynomial(1, 0, -4, 3, 0),\n",
    "         Polynomial(2, 0),\n",
    "         Polynomial(4, 1, -1),\n",
    "         Polynomial(3, 0, -5, 2, 7),\n",
    "         Polynomial(-42)]\n",
    "\n",
    "# output suitable for usage in LaTeX:\n",
    "for count, poly in enumerate(polys):\n",
    "    print(f\"$p_{count} = {str(poly)}$\")"
   ]
  },
  {
   "cell_type": "code",
   "execution_count": 28,
   "metadata": {},
   "outputs": [
    {
     "name": "stdout",
     "output_type": "stream",
     "text": [
      "+3x^4-5x^2+2x+1\n"
     ]
    }
   ],
   "source": [
    "p = Polynomial(3, 0, -5, 2, 1)\n",
    "print(p)"
   ]
  },
  {
   "cell_type": "code",
   "execution_count": 11,
   "metadata": {},
   "outputs": [
    {
     "name": "stdout",
     "output_type": "stream",
     "text": [
      "-3 193\n",
      "-2 25\n",
      "-1 -3\n",
      "0 1\n",
      "1 1\n",
      "2 33\n"
     ]
    }
   ],
   "source": [
    "for x in range(-3, 3):\n",
    "    print(x, p(x))"
   ]
  },
  {
   "cell_type": "code",
   "execution_count": 35,
   "metadata": {},
   "outputs": [
    {
     "name": "stdout",
     "output_type": "stream",
     "text": [
      "[1, 2, -5, 0, 3]\n"
     ]
    }
   ],
   "source": [
    "coefficients = [3, 0, -5, 2, 1]\n",
    "print(coefficients[::-1])"
   ]
  },
  {
   "cell_type": "code",
   "execution_count": 30,
   "metadata": {},
   "outputs": [],
   "source": [
    "class Polynomial2:\n",
    "    \n",
    "    def __init__(self, *coefficients):\n",
    "        \"\"\" input: coefficients are in the form a_n, ...a_1, a_0 \n",
    "        \"\"\"\n",
    "        self.coefficients = list(coefficients) # tuple is turned into a list\n",
    "         \n",
    "    # The __repr__ and __str__ method can be included here,\n",
    "    # but is not necessary for the immediately following code\n",
    "    \n",
    "    def __call__(self, x):    \n",
    "        res = 0\n",
    "        for coeff in self.coefficients:\n",
    "            res = res * x + coeff\n",
    "        return res "
   ]
  },
  {
   "cell_type": "code",
   "execution_count": 31,
   "metadata": {},
   "outputs": [
    {
     "name": "stdout",
     "output_type": "stream",
     "text": [
      "True\n"
     ]
    }
   ],
   "source": [
    "p1 = Polynomial(-4, 3, 0)\n",
    "p2 = Polynomial2(-4, 3, 0)\n",
    "res = all((p1(x)==p2(x) for x in range(-10, 10)))\n",
    "print(res)"
   ]
  },
  {
   "cell_type": "code",
   "execution_count": 35,
   "metadata": {},
   "outputs": [
    {
     "name": "stdout",
     "output_type": "stream",
     "text": [
      "<generator object zip_longest at 0x000001EFF2429B30>\n",
      "(2, -1)\n",
      "(0, 4)\n",
      "(0, 5)\n"
     ]
    }
   ],
   "source": [
    "def zip_longest(iter1, iter2, fillvalue=None):\n",
    "    \n",
    "    for i in range(max(len(iter1), len(iter2))):\n",
    "        if i >= len(iter1):\n",
    "            yield (fillvalue, iter2[i])\n",
    "        elif i >= len(iter2):\n",
    "            yield (iter1[i], fillvalue)\n",
    "        else:\n",
    "            yield (iter1[i], iter2[i])\n",
    "        i += 1\n",
    "\n",
    "p1 = (2,)\n",
    "p2 = (-1, 4, 5)\n",
    "print(zip_longest(p1, p2, fillvalue=0))\n",
    "for x in zip_longest(p1, p2, fillvalue=0):\n",
    "    print(x)"
   ]
  },
  {
   "cell_type": "code",
   "execution_count": 39,
   "metadata": {},
   "outputs": [],
   "source": [
    "class Polynomial:\n",
    "    \n",
    "    def __init__(self, *coefficients):\n",
    "        \"\"\" input: coefficients are in the form a_n, ...a_1, a_0 \n",
    "        \"\"\"\n",
    "        self.coefficients = list(coefficients) # tuple is turned into a list\n",
    "     \n",
    "    def __repr__(self):\n",
    "        \"\"\"\n",
    "        method to return the canonical string representation \n",
    "        of a polynomial.\n",
    "   \n",
    "        \"\"\"\n",
    "        return \"Polynomial\" + str(self.coefficients)\n",
    "    \n",
    "    def __str__(self):\n",
    "        \n",
    "        def x_expr(degree):\n",
    "            if degree == 0:\n",
    "                res = \"\"\n",
    "            elif degree == 1:\n",
    "                res = \"x\"\n",
    "            else:\n",
    "                res = \"x^\"+str(degree)\n",
    "            return res\n",
    "\n",
    "        degree = len(self.coefficients) - 1\n",
    "        res = \"\"\n",
    "\n",
    "        for i in range(0, degree+1):\n",
    "            coeff = self.coefficients[i]\n",
    "            # nothing has to be done if coeff is 0:\n",
    "            if abs(coeff) == 1 and i < degree:\n",
    "                # 1 in front of x shouldn't occur, e.g. x instead of 1x\n",
    "                # but we need the plus or minus sign:\n",
    "                res += f\"{'+' if coeff>0 else '-'}{x_expr(degree-i)}\"  \n",
    "            elif coeff != 0:\n",
    "                res += f\"{coeff:+g}{x_expr(degree-i)}\" \n",
    "\n",
    "        return res.lstrip('+')    # removing leading '+'\n",
    "            \n",
    "    def __call__(self, x):    \n",
    "        res = 0\n",
    "        for coeff in self.coefficients:\n",
    "            res = res * x + coeff\n",
    "        return res \n",
    "    \n",
    "    def degree(self):\n",
    "        return len(self.coefficients)   \n",
    "            \n",
    "    def __add__(self, other):\n",
    "        c1 = self.coefficients[::-1]\n",
    "        c2 = other.coefficients[::-1]\n",
    "        res = [sum(t) for t in zip_longest(c1, c2, fillvalue=0)]\n",
    "        return Polynomial(*res[::-1])\n",
    "    \n",
    "    def __sub__(self, other):\n",
    "        c1 = self.coefficients[::-1]\n",
    "        c2 = other.coefficients[::-1]\n",
    "        \n",
    "        res = [t1-t2 for t1, t2 in zip_longest(c1, c2, fillvalue=0)]\n",
    "        return Polynomial(*res[::-1])"
   ]
  },
  {
   "cell_type": "code",
   "execution_count": 41,
   "metadata": {},
   "outputs": [
    {
     "name": "stdout",
     "output_type": "stream",
     "text": [
      "p1(x) =  4x^4-4x^2+3x\n",
      "p2(x) =  -0.8x^4+2.3x^3+0.5x^2+x+0.2\n",
      "p1(x) + p2(x) =  3.2x^4+2.3x^3-3.5x^2+4x+0.2\n",
      "p1(x) - p2(x) =  4.8x^4-2.3x^3-4.5x^2+2x-0.2\n"
     ]
    }
   ],
   "source": [
    "p1 = Polynomial(4, 0, -4, 3, 0)\n",
    "p2 = Polynomial(-0.8, 2.3, 0.5, 1, 0.2)\n",
    "\n",
    "p_sum = p1 + p2\n",
    "p_diff = p1 - p2\n",
    "\n",
    "\n",
    "print(\"p1(x) = \", p1)\n",
    "print(\"p2(x) = \", p2)\n",
    "print(\"p1(x) + p2(x) = \", p_sum)\n",
    "print(\"p1(x) - p2(x) = \", p_diff)"
   ]
  }
 ],
 "metadata": {
  "kernelspec": {
   "display_name": "Python 3",
   "language": "python",
   "name": "python3"
  },
  "language_info": {
   "codemirror_mode": {
    "name": "ipython",
    "version": 3
   },
   "file_extension": ".py",
   "mimetype": "text/x-python",
   "name": "python",
   "nbconvert_exporter": "python",
   "pygments_lexer": "ipython3",
   "version": "3.9.2"
  }
 },
 "nbformat": 4,
 "nbformat_minor": 2
}
