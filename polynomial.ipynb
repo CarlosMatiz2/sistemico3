{
 "cells": [
  {
   "cell_type": "markdown",
   "metadata": {},
   "source": [
    "The Python code for function $x**4 - 4x**2 +3x$looks like this:"
   ]
  },
  {
   "cell_type": "code",
   "execution_count": 1,
   "metadata": {},
   "outputs": [
    {
     "name": "stdout",
     "output_type": "stream",
     "text": [
      "-1 -6\n",
      "0 0\n",
      "2 6\n",
      "3.4 97.59359999999998\n"
     ]
    }
   ],
   "source": [
    "def p(x):\n",
    "    return x**4 - 4*x**2 + 3*x\n",
    "\n",
    "for x in [-1, 0, 2, 3.4]:\n",
    "    print(x, p(x))"
   ]
  },
  {
   "cell_type": "markdown",
   "metadata": {},
   "source": [
    "We can plot the function in a simple way with Matplotlib:"
   ]
  },
  {
   "cell_type": "code",
   "execution_count": 2,
   "metadata": {},
   "outputs": [
    {
     "data": {
      "image/png": "[encoded data removed]",
      "text/plain": [
       "<Figure size 640x480 with 1 Axes>"
      ]
     },
     "metadata": {},
     "output_type": "display_data"
    }
   ],
   "source": [
    "import numpy as np\n",
    "import matplotlib.pyplot as plt\n",
    "\n",
    "X = np.linspace(-3, 3, 50, endpoint=True)\n",
    "F = p(X)\n",
    "plt.plot(X,F)\n",
    "\n",
    "plt.show()"
   ]
  },
  {
   "cell_type": "markdown",
   "metadata": {},
   "source": [
    "A polynomial is uniquely determined by its coefficients. This means, an instance of our polynomial class needs a list or tuple to define the coefficients."
   ]
  },
  {
   "cell_type": "code",
   "execution_count": 9,
   "metadata": {},
   "outputs": [],
   "source": [
    "class Polynomial:\n",
    "    \n",
    "    \n",
    "    def __init__(self, *coefficients):\n",
    "        \"\"\" input: coefficients are in the form a_n, ...a_1, a_0 \n",
    "        \"\"\"\n",
    "        self.coefficients = list(coefficients) # tuple is turned into a list\n",
    "     \n",
    "    \n",
    "    def __repr__(self):\n",
    "        \"\"\"\n",
    "        method to return the canonical string representation \n",
    "        of a polynomial.\n",
    "        \"\"\"\n",
    "        return \"Polynomial\" + str(tuple(self.coefficients))\n",
    "\n",
    "    def __call__(self, x):    \n",
    "        res = 0\n",
    "        for index, coeff in enumerate(self.coefficients[::-1]):\n",
    "            res += coeff * x** index\n",
    "        return res\n",
    "    \n",
    "    def __str__(self):\n",
    "        \n",
    "        def x_expr(degree):\n",
    "            if degree == 0:\n",
    "                res = \"\"\n",
    "            elif degree == 1:\n",
    "                res = \"x\"\n",
    "            else:\n",
    "                res = \"x^\"+str(degree)\n",
    "            return res\n",
    "\n",
    "        degree = len(self.coefficients) - 1\n",
    "        res = \"\"\n",
    "\n",
    "        for i in range(0, degree+1):\n",
    "            coeff = self.coefficients[i]\n",
    "            # nothing has to be done if coeff is 0:\n",
    "            if abs(coeff) == 1 and i < degree:\n",
    "                # 1 in front of x shouldn't occur, e.g. x instead of 1x\n",
    "                # but we need the plus or minus sign:\n",
    "                res += f\"{'+' if coeff>0 else '-'}{x_expr(degree-i)}\"  \n",
    "            elif coeff != 0:\n",
    "                res += f\"{coeff:+g}{x_expr(degree-i)}\" \n",
    "\n",
    "        return res.lstrip('+')    # removing leading '+'"
   ]
  },
  {
   "cell_type": "code",
   "execution_count": 5,
   "metadata": {},
   "outputs": [
    {
     "name": "stdout",
     "output_type": "stream",
     "text": [
      "Polynomial(1, 0, -4, 3, 0)\n"
     ]
    }
   ],
   "source": [
    "p = Polynomial(1, 0, -4, 3, 0)\n",
    "print(p)"
   ]
  },
  {
   "cell_type": "code",
   "execution_count": 6,
   "metadata": {},
   "outputs": [
    {
     "name": "stdout",
     "output_type": "stream",
     "text": [
      "Polynomial(1, 0, -4, 3, 0)\n"
     ]
    }
   ],
   "source": [
    "p2 = eval(repr(p))\n",
    "print(p2)"
   ]
  },
  {
   "cell_type": "code",
   "execution_count": 8,
   "metadata": {},
   "outputs": [
    {
     "name": "stdout",
     "output_type": "stream",
     "text": [
      "$p_0 = x^4-4x^2+3x$\n",
      "$p_1 = 2x$\n",
      "$p_2 = 4x^2+x-1$\n",
      "$p_3 = 3x^4-5x^2+2x+7$\n",
      "$p_4 = -42$\n"
     ]
    }
   ],
   "source": [
    "polys = [Polynomial(1, 0, -4, 3, 0),\n",
    "         Polynomial(2, 0),\n",
    "         Polynomial(4, 1, -1),\n",
    "         Polynomial(3, 0, -5, 2, 7),\n",
    "         Polynomial(-42)]\n",
    "\n",
    "# output suitable for usage in LaTeX:\n",
    "for count, poly in enumerate(polys):\n",
    "    print(f\"$p_{count} = {str(poly)}$\")"
   ]
  },
  {
   "cell_type": "code",
   "execution_count": 10,
   "metadata": {},
   "outputs": [
    {
     "name": "stdout",
     "output_type": "stream",
     "text": [
      "3x^4-5x^2+2x+1\n"
     ]
    }
   ],
   "source": [
    "p = Polynomial(3, 0, -5, 2, 1)\n",
    "print(p)"
   ]
  },
  {
   "cell_type": "code",
   "execution_count": 11,
   "metadata": {},
   "outputs": [
    {
     "name": "stdout",
     "output_type": "stream",
     "text": [
      "-3 193\n",
      "-2 25\n",
      "-1 -3\n",
      "0 1\n",
      "1 1\n",
      "2 33\n"
     ]
    }
   ],
   "source": [
    "for x in range(-3, 3):\n",
    "    print(x, p(x))"
   ]
  },
  {
   "cell_type": "code",
   "execution_count": 12,
   "metadata": {},
   "outputs": [
    {
     "name": "stdout",
     "output_type": "stream",
     "text": [
      "[1, 2, -5, 0, 3]\n"
     ]
    }
   ],
   "source": [
    "coefficients = [3, 0, -5, 2, 1]\n",
    "print(coefficients[::-1])"
   ]
  }
 ],
 "metadata": {
  "kernelspec": {
   "display_name": "Python 3",
   "language": "python",
   "name": "python3"
  },
  "language_info": {
   "codemirror_mode": {
    "name": "ipython",
    "version": 3
   },
   "file_extension": ".py",
   "mimetype": "text/x-python",
   "name": "python",
   "nbconvert_exporter": "python",
   "pygments_lexer": "ipython3",
   "version": "3.9.2"
  }
 },
 "nbformat": 4,
 "nbformat_minor": 2
}
