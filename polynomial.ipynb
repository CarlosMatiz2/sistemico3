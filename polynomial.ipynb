{
 "cells": [
  {
   "cell_type": "markdown",
   "metadata": {},
   "source": [
    "The Python code for function $x^4 - 4x^2 +3x$ looks like this:"
   ]
  },
  {
   "cell_type": "code",
   "execution_count": 3,
   "metadata": {},
   "outputs": [],
   "source": [
    "def p(x):\n",
    "    return x**4 - 4*x**2 + 3*x\n",
    "\n",
    "for x in [-1, 0, 2, 3.4]:\n",
    "    print(x, p(x))"
   ]
  },
  {
   "cell_type": "markdown",
   "metadata": {},
   "source": [
    "We can plot the function in a simple way with Matplotlib:"
   ]
  },
  {
   "cell_type": "code",
   "execution_count": null,
   "metadata": {},
   "outputs": [],
   "source": [
    "import numpy as np\n",
    "import matplotlib.pyplot as plt\n",
    "\n",
    "X = np.linspace(-3, 3, 100, endpoint= True)\n",
    "print(\"The values generated for the x-axis are the following:\")\n",
    "print(X)\n",
    "F = p(X)\n",
    "plt.plot(X,F)\n",
    "\n",
    "plt.show()"
   ]
  },
  {
   "cell_type": "code",
   "execution_count": 5,
   "metadata": {},
   "outputs": [],
   "source": [
    "class Polynomial:\n",
    "    def __init__(self, *coefficients):\n",
    "        \"\"\" \n",
    "        input: coefficients are in the form a_n, ...a_1, a_0 \n",
    "        \"\"\"\n",
    "        self.coefficients = list(coefficients) # tuple is turned into a list\n",
    "    \n",
    "    def __repr__(self):\n",
    "        \"\"\"\n",
    "        method to return the canonical string representation \n",
    "        of a polynomial.\n",
    "        \"\"\"\n",
    "        return \"Polynomial\" + str(tuple(self.coefficients))\n",
    "    \n",
    "p = Polynomial(1, 0, -4, 3, 0)\n",
    "print(p)\n",
    "\n",
    "p2 = eval(repr(p))\n",
    "print(p2)"
   ]
  },
  {
   "cell_type": "markdown",
   "metadata": {},
   "source": [
    "A polynomial is uniquely determined by its coefficients. This means, an instance of our polynomial class needs a list or tuple to define the coefficients."
   ]
  },
  {
   "cell_type": "code",
   "execution_count": 6,
   "metadata": {},
   "outputs": [],
   "source": [
    "class Polynomial:\n",
    "    def __init__(self, *coefficients):\n",
    "        \"\"\" \n",
    "        input: coefficients are in the form a_n, ...a_1, a_0 \n",
    "        \"\"\"\n",
    "        self.coefficients = list(coefficients) # tuple is turned into a list\n",
    "     \n",
    "    def __call__(self, x): \n",
    "        \"\"\"\n",
    "        It makes possible to use an instance of this class as a function\n",
    "        that evaluates a polynomial\n",
    "        \"\"\"   \n",
    "        res = 0\n",
    "        for index, coeff in enumerate(self.coefficients[::-1]):\n",
    "           # print(f\"index = {index}, coefficient = {coeff} \")\n",
    "            res += coeff * x** index\n",
    "        return res\n",
    "    \n",
    "    def __repr__(self):\n",
    "        \"\"\"\n",
    "        method to return the canonical string representation \n",
    "        of a polynomial.\n",
    "        \"\"\"\n",
    "        return \"Polynomial\" + str(tuple(self.coefficients))\n",
    "\n",
    "    \n",
    "    def __str__(self):\n",
    "        def x_expr(degree):\n",
    "            if degree == 0:\n",
    "                res = \"\"\n",
    "            elif degree == 1:\n",
    "                res = \"x\"\n",
    "            else:\n",
    "                res = \"x^\"+str(degree)\n",
    "            return res\n",
    "\n",
    "        degree = len(self.coefficients) - 1\n",
    "        res = \"\"\n",
    "\n",
    "        for i in range(0, degree+1):\n",
    "            coeff = self.coefficients[i]\n",
    "            # nothing has to be done if coeff is 0:\n",
    "            if abs(coeff) == 1 and i < degree:\n",
    "                # 1 in front of x shouldn't occur, e.g. x instead of 1x\n",
    "                # but we need the plus or minus sign:\n",
    "                res += f\"{'+' if coeff>0 else '-'}{x_expr(degree-i)}\"  \n",
    "            elif coeff != 0:\n",
    "                res += f\"{coeff:+g}{x_expr(degree-i)}\" \n",
    "\n",
    "        return res.lstrip('+')    # removing leading '+'"
   ]
  },
  {
   "cell_type": "code",
   "execution_count": 7,
   "metadata": {},
   "outputs": [],
   "source": [
    "p = Polynomial(1, 0, -4, 3, 0)\n",
    "print(p)\n",
    "print(f\"p(2) = {p(2)}\")"
   ]
  },
  {
   "cell_type": "code",
   "execution_count": 8,
   "metadata": {},
   "outputs": [],
   "source": [
    "p2 = eval(repr(p)) # eval invokes __repr__\n",
    "print(f\"string formed with magic method str {p2}\")\n",
    "print(f\"string formed with magic method repr {repr(p2)}\")\n",
    "print(f\"p = {p}\")"
   ]
  },
  {
   "cell_type": "code",
   "execution_count": 9,
   "metadata": {},
   "outputs": [],
   "source": [
    "eval(repr(p))"
   ]
  },
  {
   "cell_type": "code",
   "execution_count": 10,
   "metadata": {},
   "outputs": [],
   "source": [
    "repr(p)"
   ]
  },
  {
   "cell_type": "code",
   "execution_count": 11,
   "metadata": {},
   "outputs": [],
   "source": [
    "polys = [Polynomial(1, 0, -4, 3, 0),\n",
    "         Polynomial(2, 0),\n",
    "         Polynomial(4, 1, -1),\n",
    "         Polynomial(3, 0, -5, 2, 7),\n",
    "         Polynomial(-42)]\n",
    "\n",
    "# output suitable for usage in LaTeX:\n",
    "for count, poly in enumerate(polys):\n",
    "    print(f\"$p_{count} = {str(poly)}$\")"
   ]
  },
  {
   "cell_type": "markdown",
   "metadata": {},
   "source": [
    "### The above output rendered in Markdown\n",
    "\n",
    "$p_0 = x^4-4x^2+3x$\n",
    "\n",
    "$p_1 = 2x$\n",
    "\n",
    "$p_2 = 4x^2+x-1$\n",
    "\n",
    "$p_3 = 3x^4-5x^2+2x+7$\n",
    "\n",
    "$p_4 = -42$"
   ]
  },
  {
   "cell_type": "code",
   "execution_count": 12,
   "metadata": {},
   "outputs": [],
   "source": [
    "p = Polynomial(3, 0, -5, 2, 1)\n",
    "print(p)"
   ]
  },
  {
   "cell_type": "markdown",
   "metadata": {},
   "source": [
    "$3x^4-5x^2+2x+1$"
   ]
  },
  {
   "cell_type": "code",
   "execution_count": 13,
   "metadata": {},
   "outputs": [],
   "source": [
    "for x in range(-3, 3):\n",
    "    print(x, p(x))"
   ]
  },
  {
   "cell_type": "markdown",
   "metadata": {},
   "source": [
    "The following instruction reverse the list coefficients :\n",
    "\n",
    "```python\n",
    "coefficients[::-1]"
   ]
  },
  {
   "cell_type": "code",
   "execution_count": 14,
   "metadata": {},
   "outputs": [],
   "source": [
    "coefficients = [3, 0, -5, 2, 1]\n",
    "print(coefficients[::-1])"
   ]
  },
  {
   "cell_type": "code",
   "execution_count": 15,
   "metadata": {},
   "outputs": [],
   "source": [
    "class Polynomial2:\n",
    "    \n",
    "    def __init__(self, *coefficients):\n",
    "        \"\"\" input: coefficients are in the form a_n, ...a_1, a_0 \n",
    "        \"\"\"\n",
    "        self.coefficients = list(coefficients) # tuple is turned into a list\n",
    "         \n",
    "    # The __repr__ and __str__ method can be included here,\n",
    "    # but is not necessary for the immediately following code\n",
    "    \n",
    "    def __call__(self, x):    \n",
    "        res = 0\n",
    "        for coeff in self.coefficients:\n",
    "            res = res * x + coeff\n",
    "        return res "
   ]
  },
  {
   "cell_type": "code",
   "execution_count": 16,
   "metadata": {},
   "outputs": [],
   "source": [
    "p1 = Polynomial(-4, 3, 0)\n",
    "p2 = Polynomial2(-4, 3, 0)\n",
    "print(p1(2), p2(2))\n",
    "print(list(p1(x)==p2(x) for x in range(-10, 10)))\n",
    "res = all((p1(x)==p2(x) for x in range(-10, 10)))\n",
    "print(res)"
   ]
  },
  {
   "cell_type": "code",
   "execution_count": 17,
   "metadata": {},
   "outputs": [],
   "source": [
    "def zip_longest(iter1, iter2, fillvalue=None):\n",
    "    '''Fill the shorter iterable with fillvalue if the other iterable has more elements. '''\n",
    "    \n",
    "    for i in range(max(len(iter1), len(iter2))):\n",
    "        if i >= len(iter1):\n",
    "            yield (fillvalue, iter2[i])\n",
    "        elif i >= len(iter2):\n",
    "            yield (iter1[i], fillvalue)\n",
    "        else:\n",
    "            yield (iter1[i], iter2[i])\n",
    "        i += 1\n",
    "\n",
    "p1 = (2,9,8,7,5,7)\n",
    "p2 = (-1, 4, 5)\n",
    "print(zip_longest(p1, p2))\n",
    "for x in zip_longest(p1, p2):\n",
    "    print(x)"
   ]
  },
  {
   "cell_type": "code",
   "execution_count": null,
   "metadata": {},
   "outputs": [],
   "source": [
    "def zip_longest(iter1, iter2, fillvalue=None):\n",
    "    '''Fill the shorter iterable with fillvalue if the other iterable has more elements. '''\n",
    "    \n",
    "    for i in range(max(len(iter1), len(iter2))):\n",
    "        if i >= len(iter1):\n",
    "            yield (fillvalue, iter2[i])\n",
    "        elif i >= len(iter2):\n",
    "            yield (iter1[i], fillvalue)\n",
    "        else:\n",
    "            yield (iter1[i], iter2[i])\n",
    "        i += 1\n",
    "\n",
    "p1 = (2,9,8,7,5,7)\n",
    "p2 = (-1, 4, 5)\n",
    "print(zip_longest(p1, p2))\n",
    "for x in zip_longest(p1, p2):\n",
    "    print(x)\n",
    "\n",
    "class Polynomial:\n",
    "    \n",
    "    def __init__(self, *coefficients):\n",
    "        \"\"\" input: coefficients are in the form a_n, ...a_1, a_0 \n",
    "        \"\"\"\n",
    "        self.coefficients = list(coefficients) # tuple is turned into a list\n",
    "     \n",
    "    def __repr__(self):\n",
    "        \"\"\"\n",
    "        method to return the canonical string representation \n",
    "        of a polynomial.\n",
    "   \n",
    "        \"\"\"\n",
    "        return \"Polynomial\" + str(self.coefficients)\n",
    "    \n",
    "    def __str__(self):\n",
    "        \n",
    "        def x_expr(degree):\n",
    "            if degree == 0:\n",
    "                res = \"\"\n",
    "            elif degree == 1:\n",
    "                res = \"x\"\n",
    "            else:\n",
    "                res = \"x^\"+str(degree)\n",
    "            return res\n",
    "\n",
    "        degree = len(self.coefficients) - 1\n",
    "        res = \"\"\n",
    "\n",
    "        for i in range(0, degree+1):\n",
    "            coeff = self.coefficients[i]\n",
    "            # nothing has to be done if coeff is 0:\n",
    "            if abs(coeff) == 1 and i < degree:\n",
    "                # 1 in front of x shouldn't occur, e.g. x instead of 1x\n",
    "                # but we need the plus or minus sign:\n",
    "                res += f\"{'+' if coeff>0 else '-'}{x_expr(degree-i)}\"  \n",
    "            elif coeff != 0:\n",
    "                res += f\"{coeff:+g}{x_expr(degree-i)}\" \n",
    "\n",
    "        return res.lstrip('+')    # removing leading '+'\n",
    "            \n",
    "    def __call__(self, x):    \n",
    "        res = 0\n",
    "        for coeff in self.coefficients:\n",
    "            res = res * x + coeff\n",
    "        return res \n",
    "    \n",
    "    def degree(self):\n",
    "        return len(self.coefficients)   \n",
    "            \n",
    "    def __add__(self, other):\n",
    "        c1 = self.coefficients[::-1]\n",
    "        c2 = other.coefficients[::-1]\n",
    "        res = [sum(t) for t in zip_longest(c1, c2, fillvalue=0)]\n",
    "        return Polynomial(*res[::-1])\n",
    "    \n",
    "    def __sub__(self, other):\n",
    "        c1 = self.coefficients[::-1]\n",
    "        c2 = other.coefficients[::-1]\n",
    "        \n",
    "        res = [t1-t2 for t1, t2 in zip_longest(c1, c2, fillvalue=0)]\n",
    "        return Polynomial(*res[::-1])   \n",
    "\n",
    "    # NUEVO CÓDIGO\n",
    "    def __mul__(self, other):\n",
    "        # Inicializamos una lista de ceros para almacenar los coeficientes del resultado\n",
    "        result = [0] * (len(self.coefficients) + len(other.coefficients) - 1)\n",
    "        \n",
    "        # Multiplicamos cada coeficiente de self por cada coeficiente de other\n",
    "        for i, coeff1 in enumerate(self.coefficients):\n",
    "            for j, coeff2 in enumerate(other.coefficients):\n",
    "                result[i + j] += coeff1 * coeff2\n",
    "    \n",
    "        return Polynomial(*result)\n",
    "    \n",
    "\n",
    "    def __truediv__(self, other):\n",
    "        dividend = self.coefficients[:]\n",
    "        divisor = other.coefficients[:]\n",
    "        \n",
    "        # Inicializamos una lista para el cociente con el tamaño adecuado\n",
    "        quotient = [0] * (len(dividend) - len(divisor) + 1)\n",
    "        \n",
    "        while len(dividend) >= len(divisor):\n",
    "            # Calculamos el coeficiente de la división de los términos de mayor grado\n",
    "            coeff = dividend[0] / divisor[0]\n",
    "            degree_diff = len(dividend) - len(divisor)\n",
    "            \n",
    "            # Añadimos este coeficiente al cociente\n",
    "            quotient[degree_diff] = coeff\n",
    "            \n",
    "            # Restamos (divisor * coeficiente) del dividendo\n",
    "            for i in range(len(divisor)):\n",
    "                dividend[i] -= coeff * divisor[i]\n",
    "            \n",
    "            # Quitamos los ceros iniciales del dividendo\n",
    "            dividend.pop(0)\n",
    "        \n",
    "        # El resto será el dividendo final después de la división\n",
    "        remainder = dividend\n",
    "        \n",
    "        return Polynomial(*quotient), Polynomial(*remainder)"
   ]
  },
  {
   "cell_type": "code",
   "execution_count": null,
   "metadata": {},
   "outputs": [],
   "source": [
    "p1 = Polynomial(4, 0, -4, 3, 0)\n",
    "p2 = Polynomial(-0.8, 2.3, 0.5, 1, 0.2)\n",
    "\n",
    "p_sum = p1 + p2\n",
    "p_diff = p1 - p2\n",
    "\n",
    "print(\"p1(x) = \", p1)\n",
    "print(\"p2(x) = \", p2)\n",
    "print(\"p1(x) + p2(x) = \", p_sum)\n",
    "print(\"p1(x) - p2(x) = \", p_diff)"
   ]
  },
  {
   "cell_type": "markdown",
   "metadata": {},
   "source": [
    "The following is an example of how your application should run when you implement the multiplication operation:"
   ]
  },
  {
   "cell_type": "code",
   "execution_count": null,
   "metadata": {},
   "outputs": [],
   "source": [
    "def plot_polynomials(p1, p2):\n",
    "    # Creamos un intervalo para el eje X\n",
    "    x_vals = np.linspace(-20, 20, 400)\n",
    "    \n",
    "    # Calculamos los valores de los polinomios y sus operaciones\n",
    "    y_p1 = [p1(x) for x in x_vals]\n",
    "    y_p2 = [p2(x) for x in x_vals]\n",
    "    y_add = [p1(x) + p2(x) for x in x_vals]\n",
    "    y_sub = [p1(x) - p2(x) for x in x_vals]\n",
    "    \n",
    "    # Configuramos la gráfica\n",
    "    plt.figure(figsize=(10, 6))\n",
    "    \n",
    "    # Graficamos cada polinomio y sus combinaciones\n",
    "    plt.plot(x_vals, y_p1, label=f\"p1(x)\", color='blue', linewidth=2)\n",
    "    plt.plot(x_vals, y_p2, label=f\"p2(x)\", color='red', linestyle='--', linewidth=2)\n",
    "    plt.plot(x_vals, y_add, label=f\"p1(x) + p2(x)\", color='green', linestyle='-.', linewidth=2)\n",
    "    plt.plot(x_vals, y_sub, label=f\"p1(x) - p2(x)\", color='purple', linestyle=':', linewidth=2)\n",
    "    \n",
    "    # Añadimos etiquetas y leyenda\n",
    "    plt.xlabel('x', fontsize=14)\n",
    "    plt.ylabel('y', fontsize=14)\n",
    "    plt.title('Gráfica de p1(x), p2(x), p1(x) + p2(x), y p1(x) - p2(x)', fontsize=16)\n",
    "    plt.axhline(0, color='black',linewidth=1)\n",
    "    plt.axvline(0, color='black',linewidth=1)\n",
    "    plt.legend(loc='upper left')\n",
    "    \n",
    "    # Mostramos la gráfica\n",
    "    plt.grid(True)\n",
    "    plt.show()\n",
    "\n",
    "def plot_polynomial_multiplication(p1, p2):\n",
    "    # Creamos un intervalo para el eje X\n",
    "    x_vals = np.linspace(-20, 20, 400)\n",
    "    \n",
    "    # Calculamos los valores del polinomio multiplicación\n",
    "    p_mult = p1 * p2\n",
    "    y_mult = [p_mult(x) for x in x_vals]\n",
    "    \n",
    "    # Configuramos la gráfica\n",
    "    plt.figure(figsize=(10, 6))\n",
    "    \n",
    "    # Graficamos el polinomio multiplicado\n",
    "    plt.plot(x_vals, y_mult, label=f\"p1(x) * p2(x)\", color='orange', linewidth=2)\n",
    "    \n",
    "    # Añadimos etiquetas y leyenda\n",
    "    plt.xlabel('x', fontsize=14)\n",
    "    plt.ylabel('y', fontsize=14)\n",
    "    plt.title('Gráfica de p1(x) * p2(x)', fontsize=16)\n",
    "    plt.axhline(0, color='black', linewidth=1)\n",
    "    plt.axvline(0, color='black', linewidth=1)\n",
    "    plt.legend(loc='upper left')\n",
    "    \n",
    "    # Mostramos la gráfica\n",
    "    plt.grid(True)\n",
    "    plt.show()\n",
    "\n",
    "# PRUEBAS\n",
    "p1 = Polynomial(-3, 0, 0, 2, -7)\n",
    "p2 = Polynomial(5, -8, 0, 0, 10)\n",
    "print(f\"p1(x) = {p1}\")\n",
    "print(f\"p2(x) = {p2}\")\n",
    "print(f\"p1(x) + p2(x) = {(p1 + p2)}\")\n",
    "print(f\"p1(x) * p2(x) = {(p1 * p2)}\") # return Polynomial(-15, 24, 0, 10, -49, +56, 0, 20, -7\n",
    "\n",
    "plot_polynomials(p1, p2)\n",
    "plot_polynomial_multiplication(p1, p2)"
   ]
  },
  {
   "cell_type": "markdown",
   "metadata": {},
   "source": [
    "$p1(x) = -3x^4+2x-7$\n",
    "\n",
    "$p2(x) = 5x^4-8x^3+10$\n",
    "\n",
    "$p1(x) + p2(x) = 2x^4-8x^3+2x+3$\n",
    "\n",
    "$p1(x) * p2(x) = -15x^8+24x^7+10x^5-49x^4+56x^3+20x-70$"
   ]
  },
  {
   "cell_type": "markdown",
   "metadata": {},
   "source": [
    "This is how the division operation should be invoked:"
   ]
  },
  {
   "cell_type": "code",
   "execution_count": null,
   "metadata": {},
   "outputs": [],
   "source": [
    "# PRUEBAS\n",
    "p1 = Polynomial(4, 0, 3, -8)  # 4x^3 + 3x - 8\n",
    "p2 = Polynomial(1, 2)     # x + 2\n",
    "\n",
    "quotient, remainder = p1 / p2\n",
    "print(f\"p3(x) = {p1}\")\n",
    "print(f\"p4(x) = {p2}\")\n",
    "print(f\"p3(x) / p4(x) = {quotient}\")\n",
    "print(f\"residuo = {remainder}\") # Output: -46\n",
    "\n",
    "# Definimos los polinomios\n",
    "p3 = Polynomial(4, 0, 3, -8)  # 4x^3 + 3x - 8\n",
    "p4 = Polynomial(1, 2)         # x + 2\n",
    "quotient, remainder = p3 / p4  # División\n",
    "\n",
    "# Función para graficar la división de polinomios\n",
    "def plot_polynomial_division(p3, p4, quotient, remainder):\n",
    "    # Crear un intervalo para el eje X\n",
    "    x_vals = np.linspace(-5, 5, 400)\n",
    "    \n",
    "    # Evaluamos los polinomios y sus resultados\n",
    "    y_p3 = [p3(x) for x in x_vals]\n",
    "    y_p4 = [p4(x) for x in x_vals]\n",
    "    y_quotient = [quotient(x) for x in x_vals]\n",
    "    y_remainder = [remainder.coefficients[0]] * len(x_vals)  # El residuo es constante\n",
    "    \n",
    "    # Configuramos la gráfica\n",
    "    plt.figure(figsize=(10, 6))\n",
    "    \n",
    "    # Graficamos p3(x), p4(x), p3(x) / p4(x) y el residuo\n",
    "    plt.plot(x_vals, y_p3, label=\"p3(x) = 4x^3 + 3x - 8\", color='blue', linewidth=2)\n",
    "    plt.plot(x_vals, y_p4, label=\"p4(x) = x + 2\", color='red', linestyle='--', linewidth=2)\n",
    "    plt.plot(x_vals, y_quotient, label=\"p3(x) / p4(x) = 4x^2 - 8x + 19\", color='green', linestyle='-.', linewidth=2)\n",
    "    plt.plot(x_vals, y_remainder, label=\"Residuo = -46\", color='purple', linestyle=':', linewidth=2)\n",
    "    \n",
    "    # Añadimos etiquetas y leyenda\n",
    "    plt.xlabel('x', fontsize=14)\n",
    "    plt.ylabel('y', fontsize=14)\n",
    "    plt.title('Gráfica de p3(x), p4(x), p3(x) / p4(x) y residuo', fontsize=16)\n",
    "    plt.axhline(0, color='black', linewidth=1)\n",
    "    plt.axvline(0, color='black', linewidth=1)\n",
    "    plt.legend(loc='upper left')\n",
    "    \n",
    "    # Mostramos la gráfica\n",
    "    plt.grid(True)\n",
    "    plt.show()\n",
    "\n",
    "# Graficar la división de polinomios\n",
    "plot_polynomial_division(p3, p4, quotient, remainder)"
   ]
  },
  {
   "cell_type": "markdown",
   "metadata": {},
   "source": [
    "Code to help us understand the differece bettween the zip and zip_longest methods"
   ]
  },
  {
   "cell_type": "markdown",
   "metadata": {},
   "source": [
    "The zip method joins two lists up to the shortest one"
   ]
  },
  {
   "cell_type": "code",
   "execution_count": 22,
   "metadata": {},
   "outputs": [],
   "source": [
    "name = [\"Pedro\", \"Jose\", \"Edrian\"]\n",
    "age = [20, 22]\n",
    "for t in zip(name, age):\n",
    "    print(t)"
   ]
  },
  {
   "cell_type": "markdown",
   "metadata": {},
   "source": [
    "The zip_longest method joins two list up to the longest one, filling the items of the shortest list with the specifed value (fillvalue)"
   ]
  },
  {
   "cell_type": "code",
   "execution_count": 23,
   "metadata": {},
   "outputs": [],
   "source": [
    "name = [\"Pedro\", \"Jose\", \"Edrian\"]\n",
    "age = [20, 22]\n",
    "for t in zip_longest(name, age, '-'):\n",
    "    print(t)"
   ]
  }
 ],
 "metadata": {
  "kernelspec": {
   "display_name": "Python 3",
   "language": "python",
   "name": "python3"
  },
  "language_info": {
   "codemirror_mode": {
    "name": "ipython",
    "version": 3
   },
   "file_extension": ".py",
   "mimetype": "text/x-python",
   "name": "python",
   "nbconvert_exporter": "python",
   "pygments_lexer": "ipython3",
   "version": "3.11.9"
  }
 },
 "nbformat": 4,
 "nbformat_minor": 2
}
