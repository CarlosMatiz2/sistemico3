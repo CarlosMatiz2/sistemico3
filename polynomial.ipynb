{
 "cells": [
  {
   "cell_type": "markdown",
   "metadata": {},
   "source": [
    "The Python code for function $x^4 - 4x^2 +3x$ looks like this:"
   ]
  },
  {
   "cell_type": "code",
   "execution_count": 1,
   "metadata": {},
   "outputs": [
    {
     "name": "stdout",
     "output_type": "stream",
     "text": [
      "-1 -6\n",
      "0 0\n",
      "2 6\n",
      "3.4 97.59359999999998\n"
     ]
    }
   ],
   "source": [
    "def p(x):\n",
    "    return x**4 - 4*x**2 + 3*x\n",
    "\n",
    "for x in [-1, 0, 2, 3.4]:\n",
    "    print(x, p(x))"
   ]
  },
  {
   "cell_type": "markdown",
   "metadata": {},
   "source": [
    "We can plot the function in a simple way with Matplotlib:"
   ]
  },
  {
   "cell_type": "code",
   "execution_count": 2,
   "metadata": {},
   "outputs": [
    {
     "name": "stdout",
     "output_type": "stream",
     "text": [
      "The values generated for the x-axis are the following:\n",
      "[-3.   -2.94 -2.88 -2.82 -2.76 -2.7  -2.64 -2.58 -2.52 -2.46 -2.4  -2.34\n",
      " -2.28 -2.22 -2.16 -2.1  -2.04 -1.98 -1.92 -1.86 -1.8  -1.74 -1.68 -1.62\n",
      " -1.56 -1.5  -1.44 -1.38 -1.32 -1.26 -1.2  -1.14 -1.08 -1.02 -0.96 -0.9\n",
      " -0.84 -0.78 -0.72 -0.66 -0.6  -0.54 -0.48 -0.42 -0.36 -0.3  -0.24 -0.18\n",
      " -0.12 -0.06  0.    0.06  0.12  0.18  0.24  0.3   0.36  0.42  0.48  0.54\n",
      "  0.6   0.66  0.72  0.78  0.84  0.9   0.96  1.02  1.08  1.14  1.2   1.26\n",
      "  1.32  1.38  1.44  1.5   1.56  1.62  1.68  1.74  1.8   1.86  1.92  1.98\n",
      "  2.04  2.1   2.16  2.22  2.28  2.34  2.4   2.46  2.52  2.58  2.64  2.7\n",
      "  2.76  2.82  2.88  2.94]\n"
     ]
    },
    {
     "data": {
      "image/png": "[encoded data removed]",
      "text/plain": [
       "<Figure size 640x480 with 1 Axes>"
      ]
     },
     "metadata": {},
     "output_type": "display_data"
    }
   ],
   "source": [
    "import numpy as np\n",
    "import matplotlib.pyplot as plt\n",
    "\n",
    "X = np.linspace(-3, 3, 100, endpoint=False)\n",
    "print(\"The values generated for the x-axis are the following:\")\n",
    "print(X)\n",
    "F = p(X)\n",
    "plt.plot(X,F)\n",
    "\n",
    "plt.show()"
   ]
  },
  {
   "cell_type": "markdown",
   "metadata": {},
   "source": [
    "A polynomial is uniquely determined by its coefficients. This means, an instance of our polynomial class needs a list or tuple to define the coefficients."
   ]
  },
  {
   "cell_type": "code",
   "execution_count": 8,
   "metadata": {},
   "outputs": [],
   "source": [
    "class Polynomial:\n",
    "    def __init__(self, *coefficients):\n",
    "        \"\"\" \n",
    "        input: coefficients are in the form a_n, ...a_1, a_0 \n",
    "        \"\"\"\n",
    "        self.coefficients = list(coefficients) # tuple is turned into a list\n",
    "     \n",
    "    def __call__(self, x): \n",
    "        \"\"\"\n",
    "        It makes possible to use an instance of this class as a function\n",
    "        that evaluates a polynomial\n",
    "        \"\"\"   \n",
    "        res = 0\n",
    "        for index, coeff in enumerate(self.coefficients[::-1]):\n",
    "            print(f\"index = {index}, coefficient = {coeff} \")\n",
    "            res += coeff * x** index\n",
    "        return res\n",
    "    \n",
    "    def __repr__(self):\n",
    "        \"\"\"\n",
    "        method to return the canonical string representation \n",
    "        of a polynomial.\n",
    "        \"\"\"\n",
    "        return \"Polynomial\" + str(tuple(self.coefficients))\n",
    "\n",
    "    \n",
    "    def __str__(self):\n",
    "        def x_expr(degree):\n",
    "            if degree == 0:\n",
    "                res = \"\"\n",
    "            elif degree == 1:\n",
    "                res = \"x\"\n",
    "            else:\n",
    "                res = \"x^\"+str(degree)\n",
    "            return res\n",
    "\n",
    "        degree = len(self.coefficients) - 1\n",
    "        res = \"\"\n",
    "\n",
    "        for i in range(0, degree+1):\n",
    "            coeff = self.coefficients[i]\n",
    "            # nothing has to be done if coeff is 0:\n",
    "            if abs(coeff) == 1 and i < degree:\n",
    "                # 1 in front of x shouldn't occur, e.g. x instead of 1x\n",
    "                # but we need the plus or minus sign:\n",
    "                res += f\"{'+' if coeff>0 else '-'}{x_expr(degree-i)}\"  \n",
    "            elif coeff != 0:\n",
    "                res += f\"{coeff:+g}{x_expr(degree-i)}\" \n",
    "\n",
    "        return res.lstrip('+')    # removing leading '+'"
   ]
  },
  {
   "cell_type": "code",
   "execution_count": 9,
   "metadata": {},
   "outputs": [
    {
     "name": "stdout",
     "output_type": "stream",
     "text": [
      "x^4-4x^2+3x\n",
      "index = 0, coefficient = 0 \n",
      "index = 1, coefficient = 3 \n",
      "index = 2, coefficient = -4 \n",
      "index = 3, coefficient = 0 \n",
      "index = 4, coefficient = 1 \n",
      "p(2) = 6\n"
     ]
    }
   ],
   "source": [
    "p = Polynomial(1, 0, -4, 3, 0)\n",
    "print(p)\n",
    "print(f\"p(2) = {p(2)}\")"
   ]
  },
  {
   "cell_type": "code",
   "execution_count": 13,
   "metadata": {},
   "outputs": [
    {
     "name": "stdout",
     "output_type": "stream",
     "text": [
      "string formed with magic method str x^4-4x^2+3x\n",
      "string formed with magic method repr Polynomial(1, 0, -4, 3, 0)\n",
      "p = x^4-4x^2+3x\n"
     ]
    }
   ],
   "source": [
    "p2 = eval(repr(p)) # eval invokes __repr__\n",
    "print(f\"string formed with magic method str {p2}\")\n",
    "print(f\"string formed with magic method repr {repr(p2)}\")\n",
    "print(f\"p = {p}\")"
   ]
  },
  {
   "cell_type": "code",
   "execution_count": 14,
   "metadata": {},
   "outputs": [
    {
     "data": {
      "text/plain": [
       "Polynomial(1, 0, -4, 3, 0)"
      ]
     },
     "execution_count": 14,
     "metadata": {},
     "output_type": "execute_result"
    }
   ],
   "source": [
    "eval(repr(p))"
   ]
  },
  {
   "cell_type": "code",
   "execution_count": 15,
   "metadata": {},
   "outputs": [
    {
     "data": {
      "text/plain": [
       "'Polynomial(1, 0, -4, 3, 0)'"
      ]
     },
     "execution_count": 15,
     "metadata": {},
     "output_type": "execute_result"
    }
   ],
   "source": [
    "repr(p)"
   ]
  },
  {
   "cell_type": "code",
   "execution_count": 8,
   "metadata": {},
   "outputs": [
    {
     "name": "stdout",
     "output_type": "stream",
     "text": [
      "$p_0 = x^4-4x^2+3x$\n",
      "$p_1 = 2x$\n",
      "$p_2 = 4x^2+x-1$\n",
      "$p_3 = 3x^4-5x^2+2x+7$\n",
      "$p_4 = -42$\n"
     ]
    }
   ],
   "source": [
    "polys = [Polynomial(1, 0, -4, 3, 0),\n",
    "         Polynomial(2, 0),\n",
    "         Polynomial(4, 1, -1),\n",
    "         Polynomial(3, 0, -5, 2, 7),\n",
    "         Polynomial(-42)]\n",
    "\n",
    "# output suitable for usage in LaTeX:\n",
    "for count, poly in enumerate(polys):\n",
    "    print(f\"$p_{count} = {str(poly)}$\")"
   ]
  },
  {
   "cell_type": "markdown",
   "metadata": {},
   "source": [
    "### The above output rendered in Mardown\n",
    "\n",
    "$p_0 = x^4-4x^2+3x$\n",
    "\n",
    "$p_1 = 2x$\n",
    "\n",
    "$p_2 = 4x^2+x-1$\n",
    "\n",
    "$p_3 = 3x^4-5x^2+2x+7$\n",
    "\n",
    "$p_4 = -42$"
   ]
  },
  {
   "cell_type": "code",
   "execution_count": 16,
   "metadata": {},
   "outputs": [
    {
     "name": "stdout",
     "output_type": "stream",
     "text": [
      "3x^4-5x^2+2x+1\n"
     ]
    }
   ],
   "source": [
    "p = Polynomial(3, 0, -5, 2, 1)\n",
    "print(p)"
   ]
  },
  {
   "cell_type": "markdown",
   "metadata": {},
   "source": [
    "$3x^4-5x^2+2x+1$"
   ]
  },
  {
   "cell_type": "code",
   "execution_count": 17,
   "metadata": {},
   "outputs": [
    {
     "name": "stdout",
     "output_type": "stream",
     "text": [
      "index = 0, coefficient = 1 \n",
      "index = 1, coefficient = 2 \n",
      "index = 2, coefficient = -5 \n",
      "index = 3, coefficient = 0 \n",
      "index = 4, coefficient = 3 \n",
      "-3 193\n",
      "index = 0, coefficient = 1 \n",
      "index = 1, coefficient = 2 \n",
      "index = 2, coefficient = -5 \n",
      "index = 3, coefficient = 0 \n",
      "index = 4, coefficient = 3 \n",
      "-2 25\n",
      "index = 0, coefficient = 1 \n",
      "index = 1, coefficient = 2 \n",
      "index = 2, coefficient = -5 \n",
      "index = 3, coefficient = 0 \n",
      "index = 4, coefficient = 3 \n",
      "-1 -3\n",
      "index = 0, coefficient = 1 \n",
      "index = 1, coefficient = 2 \n",
      "index = 2, coefficient = -5 \n",
      "index = 3, coefficient = 0 \n",
      "index = 4, coefficient = 3 \n",
      "0 1\n",
      "index = 0, coefficient = 1 \n",
      "index = 1, coefficient = 2 \n",
      "index = 2, coefficient = -5 \n",
      "index = 3, coefficient = 0 \n",
      "index = 4, coefficient = 3 \n",
      "1 1\n",
      "index = 0, coefficient = 1 \n",
      "index = 1, coefficient = 2 \n",
      "index = 2, coefficient = -5 \n",
      "index = 3, coefficient = 0 \n",
      "index = 4, coefficient = 3 \n",
      "2 33\n"
     ]
    }
   ],
   "source": [
    "for x in range(-3, 3):\n",
    "    print(x, p(x))"
   ]
  },
  {
   "cell_type": "markdown",
   "metadata": {},
   "source": [
    "The following instruction reverse the coefficients list:\n",
    "\n",
    "```python\n",
    "coefficients[::-1]\n",
    "\n",
    "\n"
   ]
  },
  {
   "cell_type": "code",
   "execution_count": 19,
   "metadata": {},
   "outputs": [
    {
     "name": "stdout",
     "output_type": "stream",
     "text": [
      "[1, 2, -5, 0, 3]\n"
     ]
    }
   ],
   "source": [
    "coefficients = [3, 0, -5, 2, 1]\n",
    "print(coefficients[::-1])"
   ]
  },
  {
   "cell_type": "code",
   "execution_count": 20,
   "metadata": {},
   "outputs": [],
   "source": [
    "class Polynomial2:\n",
    "    \n",
    "    def __init__(self, *coefficients):\n",
    "        \"\"\" input: coefficients are in the form a_n, ...a_1, a_0 \n",
    "        \"\"\"\n",
    "        self.coefficients = list(coefficients) # tuple is turned into a list\n",
    "         \n",
    "    # The __repr__ and __str__ method can be included here,\n",
    "    # but is not necessary for the immediately following code\n",
    "    \n",
    "    def __call__(self, x):    \n",
    "        res = 0\n",
    "        for coeff in self.coefficients:\n",
    "            res = res * x + coeff\n",
    "        return res "
   ]
  },
  {
   "cell_type": "code",
   "execution_count": 13,
   "metadata": {},
   "outputs": [
    {
     "name": "stdout",
     "output_type": "stream",
     "text": [
      "index = 0, coefficient = 0 \n",
      "index = 1, coefficient = 3 \n",
      "index = 2, coefficient = -4 \n",
      "index = 0, coefficient = 0 \n",
      "index = 1, coefficient = 3 \n",
      "index = 2, coefficient = -4 \n",
      "index = 0, coefficient = 0 \n",
      "index = 1, coefficient = 3 \n",
      "index = 2, coefficient = -4 \n",
      "index = 0, coefficient = 0 \n",
      "index = 1, coefficient = 3 \n",
      "index = 2, coefficient = -4 \n",
      "index = 0, coefficient = 0 \n",
      "index = 1, coefficient = 3 \n",
      "index = 2, coefficient = -4 \n",
      "index = 0, coefficient = 0 \n",
      "index = 1, coefficient = 3 \n",
      "index = 2, coefficient = -4 \n",
      "index = 0, coefficient = 0 \n",
      "index = 1, coefficient = 3 \n",
      "index = 2, coefficient = -4 \n",
      "index = 0, coefficient = 0 \n",
      "index = 1, coefficient = 3 \n",
      "index = 2, coefficient = -4 \n",
      "index = 0, coefficient = 0 \n",
      "index = 1, coefficient = 3 \n",
      "index = 2, coefficient = -4 \n",
      "index = 0, coefficient = 0 \n",
      "index = 1, coefficient = 3 \n",
      "index = 2, coefficient = -4 \n",
      "index = 0, coefficient = 0 \n",
      "index = 1, coefficient = 3 \n",
      "index = 2, coefficient = -4 \n",
      "index = 0, coefficient = 0 \n",
      "index = 1, coefficient = 3 \n",
      "index = 2, coefficient = -4 \n",
      "index = 0, coefficient = 0 \n",
      "index = 1, coefficient = 3 \n",
      "index = 2, coefficient = -4 \n",
      "index = 0, coefficient = 0 \n",
      "index = 1, coefficient = 3 \n",
      "index = 2, coefficient = -4 \n",
      "index = 0, coefficient = 0 \n",
      "index = 1, coefficient = 3 \n",
      "index = 2, coefficient = -4 \n",
      "index = 0, coefficient = 0 \n",
      "index = 1, coefficient = 3 \n",
      "index = 2, coefficient = -4 \n",
      "index = 0, coefficient = 0 \n",
      "index = 1, coefficient = 3 \n",
      "index = 2, coefficient = -4 \n",
      "index = 0, coefficient = 0 \n",
      "index = 1, coefficient = 3 \n",
      "index = 2, coefficient = -4 \n",
      "index = 0, coefficient = 0 \n",
      "index = 1, coefficient = 3 \n",
      "index = 2, coefficient = -4 \n",
      "index = 0, coefficient = 0 \n",
      "index = 1, coefficient = 3 \n",
      "index = 2, coefficient = -4 \n",
      "True\n"
     ]
    }
   ],
   "source": [
    "p1 = Polynomial(-4, 3, 0)\n",
    "p2 = Polynomial2(-4, 3, 0)\n",
    "res = all((p1(x)==p2(x) for x in range(-10, 10)))\n",
    "print(res)"
   ]
  },
  {
   "cell_type": "code",
   "execution_count": 1,
   "metadata": {},
   "outputs": [
    {
     "name": "stdout",
     "output_type": "stream",
     "text": [
      "<generator object zip_longest at 0x0000022883929DD0>\n",
      "(2, -1)\n",
      "(9, 4)\n",
      "(8, 5)\n",
      "(7, 0)\n",
      "(5, 0)\n",
      "(7, 0)\n"
     ]
    }
   ],
   "source": [
    "def zip_longest(iter1, iter2, fillvalue=None):\n",
    "    '''Fill the shorter iterable with fillvalue if the other iterable has more elements. '''\n",
    "    \n",
    "    for i in range(max(len(iter1), len(iter2))):\n",
    "        if i >= len(iter1):\n",
    "            yield (fillvalue, iter2[i])\n",
    "        elif i >= len(iter2):\n",
    "            yield (iter1[i], fillvalue)\n",
    "        else:\n",
    "            yield (iter1[i], iter2[i])\n",
    "        i += 1\n",
    "\n",
    "p1 = (2,9,8,7,5,7)\n",
    "p2 = (-1, 4, 5)\n",
    "print(zip_longest(p1, p2, fillvalue=0))\n",
    "for x in zip_longest(p1, p2, fillvalue=0):\n",
    "    print(x)"
   ]
  },
  {
   "cell_type": "code",
   "execution_count": 15,
   "metadata": {},
   "outputs": [],
   "source": [
    "\n",
    "\n",
    "\n",
    "class Polynomial:\n",
    "    \n",
    "    def __init__(self, *coefficients):\n",
    "        \"\"\" input: coefficients are in the form a_n, ...a_1, a_0 \n",
    "        \"\"\"\n",
    "        self.coefficients = list(coefficients) # tuple is turned into a list\n",
    "     \n",
    "    def __repr__(self):\n",
    "        \"\"\"\n",
    "        method to return the canonical string representation \n",
    "        of a polynomial.\n",
    "   \n",
    "        \"\"\"\n",
    "        return \"Polynomial\" + str(self.coefficients)\n",
    "    \n",
    "    def __str__(self):\n",
    "        \n",
    "        def x_expr(degree):\n",
    "            if degree == 0:\n",
    "                res = \"\"\n",
    "            elif degree == 1:\n",
    "                res = \"x\"\n",
    "            else:\n",
    "                res = \"x^\"+str(degree)\n",
    "            return res\n",
    "\n",
    "        degree = len(self.coefficients) - 1\n",
    "        res = \"\"\n",
    "\n",
    "        for i in range(0, degree+1):\n",
    "            coeff = self.coefficients[i]\n",
    "            # nothing has to be done if coeff is 0:\n",
    "            if abs(coeff) == 1 and i < degree:\n",
    "                # 1 in front of x shouldn't occur, e.g. x instead of 1x\n",
    "                # but we need the plus or minus sign:\n",
    "                res += f\"{'+' if coeff>0 else '-'}{x_expr(degree-i)}\"  \n",
    "            elif coeff != 0:\n",
    "                res += f\"{coeff:+g}{x_expr(degree-i)}\" \n",
    "\n",
    "        return res.lstrip('+')    # removing leading '+'\n",
    "            \n",
    "    def __call__(self, x):    \n",
    "        res = 0\n",
    "        for coeff in self.coefficients:\n",
    "            res = res * x + coeff\n",
    "        return res \n",
    "    \n",
    "    def degree(self):\n",
    "        return len(self.coefficients)   \n",
    "            \n",
    "    def __add__(self, other):\n",
    "        c1 = self.coefficients[::-1]\n",
    "        c2 = other.coefficients[::-1]\n",
    "        res = [sum(t) for t in zip_longest(c1, c2, fillvalue=0)]\n",
    "        return Polynomial(*res[::-1])\n",
    "    \n",
    "    def __sub__(self, other):\n",
    "        c1 = self.coefficients[::-1]\n",
    "        c2 = other.coefficients[::-1]\n",
    "        \n",
    "        res = [t1-t2 for t1, t2 in zip_longest(c1, c2, fillvalue=0)]\n",
    "        return Polynomial(*res[::-1])\n",
    "    \n",
    "    def __mul__(self, other):\n",
    "        return Polynomial(-15, 24, 0, 10, -49, +56, 0, 20, -70)\n"
   ]
  },
  {
   "cell_type": "code",
   "execution_count": 16,
   "metadata": {},
   "outputs": [
    {
     "name": "stdout",
     "output_type": "stream",
     "text": [
      "p1(x) =  4x^4-4x^2+3x\n",
      "p2(x) =  -0.8x^4+2.3x^3+0.5x^2+x+0.2\n",
      "p1(x) + p2(x) =  3.2x^4+2.3x^3-3.5x^2+4x+0.2\n",
      "p1(x) - p2(x) =  4.8x^4-2.3x^3-4.5x^2+2x-0.2\n"
     ]
    }
   ],
   "source": [
    "p1 = Polynomial(4, 0, -4, 3, 0)\n",
    "p2 = Polynomial(-0.8, 2.3, 0.5, 1, 0.2)\n",
    "\n",
    "p_sum = p1 + p2\n",
    "p_diff = p1 - p2\n",
    "\n",
    "\n",
    "print(\"p1(x) = \", p1)\n",
    "print(\"p2(x) = \", p2)\n",
    "print(\"p1(x) + p2(x) = \", p_sum)\n",
    "print(\"p1(x) - p2(x) = \", p_diff)\n"
   ]
  },
  {
   "cell_type": "markdown",
   "metadata": {},
   "source": [
    "The following is an example of how your application should run when you implement the multiplication operation:"
   ]
  },
  {
   "cell_type": "code",
   "execution_count": 17,
   "metadata": {},
   "outputs": [
    {
     "name": "stdout",
     "output_type": "stream",
     "text": [
      "p1(x) = -3x^4+2x-7\n",
      "p2(x) = 5x^4-8x^3+10\n",
      "p1(x) + p2(x) = 2x^4-8x^3+2x+3\n",
      "p1(x) * p2(x) = -15x^8+24x^7+10x^5-49x^4+56x^3+20x-70\n"
     ]
    }
   ],
   "source": [
    "p1 = Polynomial(-3, 0, 0, 2, -7)\n",
    "p2 = Polynomial(5, -8, 0, 0, 10)\n",
    "print(f\"p1(x) = {p1}\")\n",
    "print(f\"p2(x) = {p2}\")\n",
    "print(f\"p1(x) + p2(x) = {(p1 + p2)}\")\n",
    "print(f\"p1(x) * p2(x) = {(p1 * p2)}\") # return Polynomial(-15, 24, 0, 10, -49, +56, 0, 20, -7\n"
   ]
  },
  {
   "cell_type": "markdown",
   "metadata": {},
   "source": [
    "$p1(x) = -3x^4+2x-7$\n",
    "\n",
    "$p2(x) = 5x^4-8x^3+10$\n",
    "\n",
    "$p1(x) + p2(x) = 2x^4-8x^3+2x+3$\n",
    "\n",
    "$p1(x) * p2(x) = -15x^8+24x^7+10x^5-49x^4+56x^3+20x-70$"
   ]
  },
  {
   "cell_type": "markdown",
   "metadata": {},
   "source": [
    "Code to help us understand the differece bettween the zip and zip_longest methods"
   ]
  },
  {
   "cell_type": "markdown",
   "metadata": {},
   "source": [
    "The zip method joins two lists up to the shortest one"
   ]
  },
  {
   "cell_type": "code",
   "execution_count": 18,
   "metadata": {},
   "outputs": [
    {
     "name": "stdout",
     "output_type": "stream",
     "text": [
      "('Pedro', 20)\n",
      "('Jose', 22)\n"
     ]
    }
   ],
   "source": [
    "name = [\"Pedro\", \"Jose\", \"Edrian\"]\n",
    "age = [20, 22]\n",
    "for t in zip(name, age):\n",
    "    print(t)"
   ]
  },
  {
   "cell_type": "markdown",
   "metadata": {},
   "source": [
    "The zip_longest method joins two list up to the longest one, filling the items of the shortest list with the specifed value (fillvalue)"
   ]
  },
  {
   "cell_type": "markdown",
   "metadata": {},
   "source": []
  },
  {
   "cell_type": "code",
   "execution_count": 4,
   "metadata": {},
   "outputs": [
    {
     "name": "stdout",
     "output_type": "stream",
     "text": [
      "('Pedro', 20)\n",
      "('Jose', 22)\n",
      "('Edrian', '-')\n"
     ]
    }
   ],
   "source": [
    "name = [\"Pedro\", \"Jose\", \"Edrian\"]\n",
    "age = [20, 22]\n",
    "for t in zip_longest(name, age, '-'):\n",
    "    print(t)"
   ]
  }
 ],
 "metadata": {
  "kernelspec": {
   "display_name": "Python 3",
   "language": "python",
   "name": "python3"
  },
  "language_info": {
   "codemirror_mode": {
    "name": "ipython",
    "version": 3
   },
   "file_extension": ".py",
   "mimetype": "text/x-python",
   "name": "python",
   "nbconvert_exporter": "python",
   "pygments_lexer": "ipython3",
   "version": "3.9.2"
  }
 },
 "nbformat": 4,
 "nbformat_minor": 2
}
