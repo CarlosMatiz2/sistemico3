{
 "cells": [
  {
   "cell_type": "markdown",
   "metadata": {},
   "source": [
    "The Simples Class"
   ]
  },
  {
   "cell_type": "code",
   "execution_count": 2,
   "metadata": {},
   "outputs": [
    {
     "name": "stdout",
     "output_type": "stream",
     "text": [
      "<__main__.Car object at 0x00000291FB579FD0>\n",
      "<class '__main__.Car'>\n",
      "2826010337232\n",
      "True\n",
      "True\n",
      "False\n"
     ]
    }
   ],
   "source": [
    "class Car:\n",
    "    pass\n",
    "\n",
    "my_car = Car()\n",
    "print(my_car)\n",
    "print(type(my_car))\n",
    "print(id(my_car))\n",
    "print(isinstance(my_car, Car))\n",
    "print(isinstance(my_car, object))\n",
    "print(isinstance(my_car, int))"
   ]
  },
  {
   "cell_type": "markdown",
   "metadata": {},
   "source": [
    "Attributes of Car class"
   ]
  },
  {
   "cell_type": "code",
   "execution_count": 3,
   "metadata": {},
   "outputs": [
    {
     "name": "stdout",
     "output_type": "stream",
     "text": [
      "['__class__', '__delattr__', '__dict__', '__dir__', '__doc__', '__eq__', '__format__', '__ge__', '__getattribute__', '__gt__', '__hash__', '__init__', '__init_subclass__', '__le__', '__lt__', '__module__', '__ne__', '__new__', '__reduce__', '__reduce_ex__', '__repr__', '__setattr__', '__sizeof__', '__str__', '__subclasshook__', '__weakref__']\n"
     ]
    }
   ],
   "source": [
    "print(dir(Car))"
   ]
  },
  {
   "cell_type": "code",
   "execution_count": 4,
   "metadata": {},
   "outputs": [
    {
     "name": "stdout",
     "output_type": "stream",
     "text": [
      "4\n",
      "25\n",
      "The address of my_square is 2141941671584\n"
     ]
    }
   ],
   "source": [
    "class Square:\n",
    "    side = 2\n",
    "\n",
    "    def area(self):\n",
    "        return self.side ** 2\n",
    "\n",
    "    def perimeter(self):\n",
    "        return self.side * 4\n",
    "\n",
    "my_square = Square()\n",
    "print(my_square.area())\n",
    "my_square.side = 5\n",
    "print(my_square.area())\n",
    "print(\"The address of my_square is\", id(my_square))"
   ]
  },
  {
   "cell_type": "markdown",
   "metadata": {},
   "source": [
    "Failing to Procide the self Parameter to method in class will result in an error"
   ]
  },
  {
   "cell_type": "code",
   "execution_count": 5,
   "metadata": {},
   "outputs": [
    {
     "ename": "TypeError",
     "evalue": "show_car() takes 0 positional arguments but 1 was given",
     "output_type": "error",
     "traceback": [
      "\u001b[1;31m---------------------------------------------------------------------------\u001b[0m",
      "\u001b[1;31mTypeError\u001b[0m                                 Traceback (most recent call last)",
      "Cell \u001b[1;32mIn[5], line 6\u001b[0m\n\u001b[0;32m      3\u001b[0m         \u001b[38;5;28;01mpass\u001b[39;00m\n\u001b[0;32m      5\u001b[0m my_car \u001b[38;5;241m=\u001b[39m car()\n\u001b[1;32m----> 6\u001b[0m \u001b[38;5;28mprint\u001b[39m(\u001b[43mmy_car\u001b[49m\u001b[38;5;241;43m.\u001b[39;49m\u001b[43mshow_car\u001b[49m\u001b[43m(\u001b[49m\u001b[43m)\u001b[49m)\n",
      "\u001b[1;31mTypeError\u001b[0m: show_car() takes 0 positional arguments but 1 was given"
     ]
    }
   ],
   "source": [
    "class car:\n",
    "    def show_car():\n",
    "        pass\n",
    "\n",
    "my_car = car()\n",
    "print(my_car.show_car())"
   ]
  },
  {
   "cell_type": "markdown",
   "metadata": {},
   "source": [
    "Illustation of What __new__ method does"
   ]
  },
  {
   "cell_type": "code",
   "execution_count": 10,
   "metadata": {},
   "outputs": [
    {
     "data": {
      "text/plain": [
       "{'brand': 'Toyota', 'model': 'Corolla', 'year': 2015}"
      ]
     },
     "execution_count": 10,
     "metadata": {},
     "output_type": "execute_result"
    }
   ],
   "source": [
    "class Car:\n",
    "    def __init__(self, brand, model, year):\n",
    "        self.brand = brand\n",
    "        self.model = model\n",
    "        self.year = year\n",
    "        return\n",
    "my_car = Car(\"Toyota\", \"Corolla\", 2015)\n",
    "my_car.__dict__"
   ]
  },
  {
   "cell_type": "markdown",
   "metadata": {},
   "source": [
    "We Create an Object using the __new__ method"
   ]
  },
  {
   "cell_type": "code",
   "execution_count": 15,
   "metadata": {},
   "outputs": [
    {
     "data": {
      "text/plain": [
       "{'brand': 'Toyota', 'model': 'Corolla', 'year': 2015}"
      ]
     },
     "execution_count": 15,
     "metadata": {},
     "output_type": "execute_result"
    }
   ],
   "source": [
    "my_car_new = object.__new__(Car)\n",
    "my_car_new.__init__(\"Toyota\", \"Corolla\", 2015)\n",
    "my_car_new.__dict__"
   ]
  },
  {
   "cell_type": "markdown",
   "metadata": {},
   "source": [
    "Singleton Class Example Using __new__\n",
    "Here the use of __new__ method is to create a single instance of the class and return the same instance whenever the class is called\n",
    "\n",
    "The __new__ method is necessary to create a singleton class"
   ]
  },
  {
   "cell_type": "code",
   "execution_count": 1,
   "metadata": {},
   "outputs": [
    {
     "name": "stdout",
     "output_type": "stream",
     "text": [
      "True\n",
      "I am the Singleton instance I am the Singleton instance\n",
      "New Singleton Value\n"
     ]
    }
   ],
   "source": [
    "class Singleton:\n",
    "    _instance = None  # Keep instance reference\n",
    "\n",
    "    def __new__(cls, *args, **kwargs):\n",
    "        if not cls._instance:\n",
    "            cls._instance = super(Singleton, cls).__new__(cls)\n",
    "            # Put any initialization here\n",
    "        return cls._instance\n",
    "\n",
    "    # Example initialization method\n",
    "    def __init__(self):\n",
    "        self.value = 'I am the Singleton instance'\n",
    "\n",
    "# Creating instances to demonstrate that only one instance exists\n",
    "instance1 = Singleton()\n",
    "instance2 = Singleton()\n",
    "\n",
    "# Despite creating two \"instances\", they point to the same object\n",
    "print(instance1 == instance2)  # Output: True\n",
    "print(instance1.value, instance2.value)  # Output: I am the Singleton instance I am the Singleton instance\n",
    "\n",
    "# Modifying the value through one instance affects the other\n",
    "instance1.value = \"New Singleton Value\"\n",
    "print(instance2.value)  # Output: New Singleton Value\n"
   ]
  },
  {
   "cell_type": "markdown",
   "metadata": {},
   "source": [
    "Mangling in Python\n"
   ]
  },
  {
   "cell_type": "code",
   "execution_count": 6,
   "metadata": {},
   "outputs": [
    {
     "name": "stdout",
     "output_type": "stream",
     "text": [
      "21\n",
      "Toyota\n",
      "Corolla\n",
      "2015\n",
      "30\n"
     ]
    },
    {
     "ename": "AttributeError",
     "evalue": "'car' object has no attribute '__engine_temperature'",
     "output_type": "error",
     "traceback": [
      "\u001b[1;31m---------------------------------------------------------------------------\u001b[0m",
      "\u001b[1;31mAttributeError\u001b[0m                            Traceback (most recent call last)",
      "Cell \u001b[1;32mIn[6], line 27\u001b[0m\n\u001b[0;32m     25\u001b[0m test\u001b[38;5;241m.\u001b[39mset_engine_temperature(\u001b[38;5;241m30\u001b[39m)\n\u001b[0;32m     26\u001b[0m \u001b[38;5;28mprint\u001b[39m(test\u001b[38;5;241m.\u001b[39mget_engine_temperature())\n\u001b[1;32m---> 27\u001b[0m \u001b[38;5;28mprint\u001b[39m(\u001b[43mtest\u001b[49m\u001b[38;5;241;43m.\u001b[39;49m\u001b[43m__engine_temperature\u001b[49m)\n",
      "\u001b[1;31mAttributeError\u001b[0m: 'car' object has no attribute '__engine_temperature'"
     ]
    }
   ],
   "source": [
    "class car:\n",
    "    def __init__(self, brand, model, year, __engine_temperature):\n",
    "        self.brand = brand\n",
    "        self.model = model\n",
    "        self.year = year\n",
    "        self.__engine_temperature = __engine_temperature\n",
    "        return\n",
    "    \n",
    "    def temperature_plus_one(self):\n",
    "        self.__engine_temperature += 1\n",
    "        return self.__engine_temperature\n",
    "    \n",
    "    def set_engine_temperature(self, value):\n",
    "        self.__engine_temperature = value\n",
    "        return\n",
    "    def get_engine_temperature(self):\n",
    "        return self.__engine_temperature\n",
    "\n",
    "test = car(\"Toyota\", \"Corolla\", 2015, 20)\n",
    "print(test.temperature_plus_one())\n",
    "print(test.brand)\n",
    "print(test.model)\n",
    "print(test.year)\n",
    "\n",
    "test.set_engine_temperature(30)\n",
    "print(test.get_engine_temperature())\n",
    "print(test.__engine_temperature)\n",
    "        "
   ]
  },
  {
   "cell_type": "markdown",
   "metadata": {},
   "source": [
    "However, notice that Python is mangling the attribute name __engine_temperature to _Car__engine_temperature. This is a security feature to prevent the accidental access of attributes."
   ]
  },
  {
   "cell_type": "code",
   "execution_count": 9,
   "metadata": {},
   "outputs": [
    {
     "name": "stdout",
     "output_type": "stream",
     "text": [
      "30\n"
     ]
    }
   ],
   "source": [
    "print(test._car__engine_temperature)"
   ]
  },
  {
   "cell_type": "code",
   "execution_count": 8,
   "metadata": {},
   "outputs": [
    {
     "name": "stdout",
     "output_type": "stream",
     "text": [
      "['__class__', '__delattr__', '__dict__', '__dir__', '__doc__', '__eq__', '__format__', '__ge__', '__getattribute__', '__gt__', '__hash__', '__init__', '__init_subclass__', '__le__', '__lt__', '__module__', '__ne__', '__new__', '__reduce__', '__reduce_ex__', '__repr__', '__setattr__', '__sizeof__', '__str__', '__subclasshook__', '__weakref__', '_car__engine_temperature', 'brand', 'get_engine_temperature', 'model', 'set_engine_temperature', 'temperature_plus_one', 'year']\n"
     ]
    }
   ],
   "source": [
    "print(dir(test))"
   ]
  }
 ],
 "metadata": {
  "kernelspec": {
   "display_name": "Python 3",
   "language": "python",
   "name": "python3"
  },
  "language_info": {
   "codemirror_mode": {
    "name": "ipython",
    "version": 3
   },
   "file_extension": ".py",
   "mimetype": "text/x-python",
   "name": "python",
   "nbconvert_exporter": "python",
   "pygments_lexer": "ipython3",
   "version": "3.9.2"
  }
 },
 "nbformat": 4,
 "nbformat_minor": 2
}
